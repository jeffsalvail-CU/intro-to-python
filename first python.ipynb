{
 "cells": [
  {
   "cell_type": "markdown",
   "metadata": {},
   "source": [
    "# Intro to python for policy analysis graduate students\n",
    "\n",
    "Thank you everyone for coming to the workshop. Here is the notebook we worked on together, which I've cleaned up to a more readable reference document. I also include some references. You now have all the tools you need to begin teaching yourself Python and using it as a tool in your research projects.\n",
    "\n",
    "I suggest running each cell in the notebook, reading the comments, and playing with the contents of the cell to check your understanding!"
   ]
  },
  {
   "cell_type": "code",
   "execution_count": 1,
   "metadata": {},
   "outputs": [
    {
     "name": "stdout",
     "output_type": "stream",
     "text": [
      "Hello, world!\n"
     ]
    }
   ],
   "source": [
    "# this is a comment\n",
    "# python ignores everything after the hashtag (#)\n",
    "\n",
    "# The first thing we learned was the print statement and executing a cell.\n",
    "# Highlight this cell and hold Control (Windows) or Command (Mac) and press Enter to execute the script contained.\n",
    "\n",
    "print('Hello, world!')\n",
    "\n",
    "#feel free to change what's in between the quotation marks"
   ]
  },
  {
   "cell_type": "code",
   "execution_count": 42,
   "metadata": {},
   "outputs": [
    {
     "name": "stdout",
     "output_type": "stream",
     "text": [
      "The type of our_string is:  <class 'str'>\n",
      "The type of x is:  <class 'int'>\n",
      "The type of z is:  <class 'float'>\n",
      "z =  20.0\n"
     ]
    }
   ],
   "source": [
    "# Next we learned about different data types:\n",
    "\n",
    "our_string = \"this is a string!\" #Between two quotes is a string\n",
    "print(\"The type of our_string is: \",type(our_string))\n",
    "\n",
    "x = 5 # this is an integer\n",
    "print(\"The type of x is: \",type(x))\n",
    "\n",
    "z = 4.0*x # the decimal place makes this a floating point number\n",
    "print(\"The type of z is: \",type(z))\n",
    "\n",
    "print(\"z = \",z)\n",
    "\n",
    "# change what x is, or the expression for z!"
   ]
  },
  {
   "cell_type": "code",
   "execution_count": 7,
   "metadata": {},
   "outputs": [
    {
     "name": "stdout",
     "output_type": "stream",
     "text": [
      "The value of z is: 20.0\n",
      "and the value of x is 5\n",
      "our_string is \"this is a string!\"\n",
      "all of these together: first z is: 20.0, and x is 5 and our_string is \"this is a string!\"\n"
     ]
    }
   ],
   "source": [
    "# we also learned about string formatting.\n",
    "# That is, using the % sign to insert the value of a variable into a string\n",
    "\n",
    "print('The value of z is: %.1f'%(z))\n",
    "print('and the value of x is %d'%(x))\n",
    "print('our_string is \"%s\"'%(our_string))\n",
    "\n",
    "print('all of these together: first z is: %1.1f, and x is %d and our_string is \"%s\"'%(z,x,our_string))"
   ]
  },
  {
   "cell_type": "code",
   "execution_count": 10,
   "metadata": {},
   "outputs": [
    {
     "name": "stdout",
     "output_type": "stream",
     "text": [
      "['Abeer is sitting over there!', 'Rob']\n",
      "Abeer is sitting over there!\n",
      "there\n",
      "[1, 'this is a string!', 'jeff']\n"
     ]
    }
   ],
   "source": [
    "# we learned about lists\n",
    "# lists are designated with square brackets []\n",
    "# items are separated by commas\n",
    "\n",
    "our_list = [1,our_string,\"jeff\",z,x,[\"Abeer is sitting over there!\",\"Rob\",],]\n",
    "\n",
    "# lists are indexed by square brackets and an integer\n",
    "# remember, python starts counting at 0\n",
    "\n",
    "print(our_list[5]) #our_list[5] is also a list, which can be further indexed\n",
    "\n",
    "print(our_list[5][0])# our_list[5][0] is a string, which can also be indexed\n",
    "\n",
    "print(our_list[5][0][-6:-1]) # using the colon : is called slicing, which selects a range\n",
    "\n",
    "print(our_list[0:3]) #lists can be sliced as well"
   ]
  },
  {
   "cell_type": "code",
   "execution_count": 14,
   "metadata": {},
   "outputs": [
    {
     "name": "stdout",
     "output_type": "stream",
     "text": [
      "14\n"
     ]
    }
   ],
   "source": [
    "# another composite (iterable) data type is the dictionary\n",
    "# make a dictionary with curly brackets {}\n",
    "# dictionaries do not store things in a fixed order,\n",
    "# you \"look things up\" in a dictionary using the \"key\" which must be a string\n",
    "\n",
    "dictionary_1 = {'GDP Ontario':17,'GDP Canada':50,'GDP BC':14,our_string:z}\n",
    "\n",
    "print(dictionary_1['GDP BC'])"
   ]
  },
  {
   "cell_type": "code",
   "execution_count": 18,
   "metadata": {},
   "outputs": [
    {
     "name": "stdout",
     "output_type": "stream",
     "text": [
      "285\n"
     ]
    }
   ],
   "source": [
    "# we learned about iterating through a list\n",
    "# using a for-loop\n",
    "\n",
    "# here is a little script that will add up the squares of the numbers from 1 to 9\n",
    "\n",
    "new_list = [1,2,3,4,5,6,7,8,9]\n",
    "\n",
    "total = 0 # we create a variable called total and start it at zero \n",
    "\n",
    "for item in new_list: #every time the program goes through the indented code\n",
    "    var = item**2        # it squares the item in the list, storing the answer in a variable called var\n",
    "    total = total + var  # and adds var to total, overwriting total with the new answer\n",
    "                         # when it's done, it loops back to the top of the indented block\n",
    "                         # until it's iterated through the whole list\n",
    "\n",
    "    \n",
    "# this line is no longer indented,\n",
    "# signifying to the reader and the computer that it is not inside the for-loop\n",
    "print(total) #so it prints the \"total\" after we've added all the squares we're interested in"
   ]
  },
  {
   "cell_type": "code",
   "execution_count": 20,
   "metadata": {},
   "outputs": [
    {
     "name": "stdout",
     "output_type": "stream",
     "text": [
      "GDP Ontario\n",
      "GDP Canada\n",
      "GDP BC\n",
      "this is a string!\n"
     ]
    }
   ],
   "source": [
    "# when you iterate throgh a dictionary, you get the keys\n",
    "\n",
    "for key_name in dictionary_1:\n",
    "    print(key_name)"
   ]
  },
  {
   "cell_type": "code",
   "execution_count": 43,
   "metadata": {},
   "outputs": [
    {
     "name": "stdout",
     "output_type": "stream",
     "text": [
      "GDP Ontario : 17\n",
      "GDP Canada : 50\n",
      "GDP BC : 14\n",
      "this is a string! : 20.0\n"
     ]
    }
   ],
   "source": [
    "# you can access the contents of the dictionary using square brackets, similar to indexing a list\n",
    "\n",
    "for key_name in dictionary_1:\n",
    "    print(key_name,':',dictionary_1[key_name])"
   ]
  },
  {
   "cell_type": "code",
   "execution_count": 28,
   "metadata": {},
   "outputs": [
    {
     "name": "stdout",
     "output_type": "stream",
     "text": [
      "True\n",
      "False\n",
      "True\n",
      "False\n",
      "True\n",
      "True\n",
      "a is less than b\n",
      "a is not less than b\n",
      "a is equal to b\n"
     ]
    }
   ],
   "source": [
    "#we learned about logic and comparisons:\n",
    "\n",
    "print('A' == 'A') # == means does the object on the left equal the object on the right?\n",
    "print('A' == 'B')\n",
    "\n",
    "# we can compare numbers, too\n",
    "\n",
    "print( 3 < 7 )\n",
    "print( 7 < 7 )\n",
    "print( 7 <= 7)\n",
    "\n",
    "# can also use the word \"not\" to flip something from True to False or False to True\n",
    "\n",
    "print( not ( 7 < 7 ))\n",
    "\n",
    "# we use these logics and comparisons to conditionally execute code\n",
    "# using an \"if statement\"\n",
    "\n",
    "a = 1\n",
    "b = 2\n",
    "if a < b:\n",
    "    print(\"a is less than b\")\n",
    "\n",
    "# we saw the \"else\" \n",
    "\n",
    "a = 2 #note I am changing a and b\n",
    "b = 1\n",
    "if a < b: #but not the comparison\n",
    "    print(\"a is less than b\")\n",
    "else:\n",
    "    print(\"a is not less than b\")\n",
    "    \n",
    "    \n",
    "# there is also the \"elif\", which works like this:\n",
    "\n",
    "a = 2\n",
    "b = 2\n",
    "if a < b: \n",
    "    print(\"a is less than b\")\n",
    "elif a == b:\n",
    "    print(\"a is equal to b\")\n",
    "else:\n",
    "    print(\"a is neither less than nor equal to b\")\n",
    "    "
   ]
  },
  {
   "cell_type": "code",
   "execution_count": 29,
   "metadata": {},
   "outputs": [
    {
     "name": "stdout",
     "output_type": "stream",
     "text": [
      "GDP Ontario 17\n",
      "GDP Canada 50\n",
      "GDP BC 14\n"
     ]
    }
   ],
   "source": [
    "# Now back to our dictionary... \n",
    "# suppose you want just the items that start with the letters \"GDP\"\n",
    "\n",
    "for key_name in dictionary_1:\n",
    "    if key_name[:3] == 'GDP':\n",
    "        print(key_name,dictionary_1[key_name])\n",
    "    "
   ]
  },
  {
   "cell_type": "code",
   "execution_count": 30,
   "metadata": {},
   "outputs": [
    {
     "name": "stdout",
     "output_type": "stream",
     "text": [
      "GDP Ontario\n",
      "GDP Canada\n",
      "GDP BC\n"
     ]
    }
   ],
   "source": [
    "# or maybe just the items that contain the letter \"D\"\n",
    "\n",
    "for key in dictionary_1:\n",
    "    if any([char == 'D' for char in key]):\n",
    "        print(key)"
   ]
  },
  {
   "cell_type": "code",
   "execution_count": 34,
   "metadata": {},
   "outputs": [
    {
     "name": "stdout",
     "output_type": "stream",
     "text": [
      "[0, 1, 4, 9, 16]\n",
      "[0, 1, 4, 9, 16]\n"
     ]
    }
   ],
   "source": [
    "# the above cell introduced \"list comprehension\" \n",
    "# which is a \"pythonic\" (read: fewer lines) way to generate a list\n",
    "# the following two produce the same result\n",
    "# but list comprehension computes much faster for larger lists\n",
    "# use whichever you prefer!\n",
    "\n",
    "list1 = [i**2 for i in [0,1,2,3,4]] #list comprehension. fast and less code\n",
    "print(list1)\n",
    "\n",
    "list2 = []\n",
    "for i in [0,1,2,3,4]: # for loop. easier to read but slower for large lists\n",
    "    list2.append(i**2)\n",
    "print(list2)"
   ]
  },
  {
   "cell_type": "code",
   "execution_count": 40,
   "metadata": {},
   "outputs": [
    {
     "name": "stdout",
     "output_type": "stream",
     "text": [
      "[False, False, False, False, True, False, False, False, False, False, True]\n",
      "2\n"
     ]
    }
   ],
   "source": [
    "# we can use list comprehension to check if any or all items in a list\n",
    "# satisfy some criterion or to count things:\n",
    "\n",
    "variable_name = 'GDP ONTARIO'\n",
    "\n",
    "# first we generate a list of True/False values, for each character in the string\n",
    "list_of_hits = [char == 'O' for char in variable_name] \n",
    "print(list1)\n",
    "\n",
    "# then by calling the sum function on that list,\n",
    "# since python treats True and False as 1 and 0 (binary code!)\n",
    "# we can add True + False + ... to get the number of \"trues\" and therefore the number of hits\n",
    "number_of_hits = sum(list_of_hits)\n",
    "print(number_of_hits)"
   ]
  },
  {
   "cell_type": "code",
   "execution_count": 49,
   "metadata": {},
   "outputs": [
    {
     "name": "stdout",
     "output_type": "stream",
     "text": [
      "0\n",
      "1\n",
      "2\n",
      "3\n",
      "4\n",
      "5\n",
      "6\n",
      "7\n",
      "8\n",
      "9\n",
      "10\n",
      "End of Loop\n"
     ]
    }
   ],
   "source": [
    "# we didn't get to while-loops but here's one\n",
    "# figure out how it works!\n",
    "\n",
    "\n",
    "# here is a script that counts to 10\n",
    "i = 0\n",
    "while i < 11:\n",
    "    print(i)\n",
    "    i = i+1\n",
    "    \n",
    "print('End of Loop')\n",
    "\n",
    "# the while loop is similar to a for-loop\n",
    "# in that it executes the indented block of code over and over (that's the looping part)\n",
    "# but where a for loop as a pre-determined number of iterations,\n",
    "# a while loop goes until the expression evaluates to False\n",
    "\n",
    "# in other words,\n",
    "# it evaluates the expression after the word while to decide if it is True or False\n",
    "# if it is True, it runs the indented block\n",
    "# if it is False, it ends and the interpreter moves on to the next line in the code\n",
    "    \n",
    "# N.B.\n",
    "# While loops can accidentally run forever\n",
    "# if that happens as you experiment with your code\n",
    "# there is a stop button up top under the word \"Kernel\"\n",
    "# hit that to exit an infinite (or too long finite) loop"
   ]
  },
  {
   "cell_type": "code",
   "execution_count": null,
   "metadata": {},
   "outputs": [],
   "source": [
    "#PROBLEM\n",
    "\n",
    "# make a while loop to count how many times the number 1 must be doubled to reach 1 billion (1000000000)\n",
    "\n",
    "# my solution is in a cell below, but try it before looking ahead!\n",
    "# and if your solution looks different than mine, that's okay\n",
    "# as long as you get the right answer\n",
    "\n",
    "counter = 0\n",
    "X = 1\n",
    "while <PUT SOMETHING HERE>:\n",
    "    <And put something here>\n",
    "    <maybe a few somethings>\n",
    "    \n",
    "print(<put the answer to the question in here!>)"
   ]
  },
  {
   "cell_type": "markdown",
   "metadata": {},
   "source": [
    "Here is an inventory of a few things we learned\n",
    "\n",
    "```\n",
    "function:\n",
    "    f()\n",
    "string (s):\n",
    "    'Hello, world!'\n",
    "integer (d):\n",
    "    7\n",
    "floating point numbers (f):\n",
    "    9.5\n",
    "list:\n",
    "    [a,b,c]\n",
    "list indexing:\n",
    "    [a,b,c,][2] returns c\n",
    "    because python starts counting at 0\n",
    "dictionary:\n",
    "    {'a':x, 'b':y, 'c':z}\n",
    "dictionary lookup:\n",
    "    dictionary['a'] returns x\n",
    "    dictionary['b'] returns y\n",
    "\n",
    "placing variables inside a string:\n",
    "    This is called \"string formatting.\"\n",
    "    '%f'%(z) inserts a floating point number\n",
    "    ```"
   ]
  },
  {
   "cell_type": "code",
   "execution_count": 47,
   "metadata": {},
   "outputs": [
    {
     "name": "stdout",
     "output_type": "stream",
     "text": [
      "You must double 1 30 times to reach 1 billion.\n"
     ]
    }
   ],
   "source": [
    "counter = 0\n",
    "X = 1\n",
    "while X < 1000000000:\n",
    "    X = 2*X #double X\n",
    "    counter = counter+1 #and increment the counter\n",
    "    \n",
    "print(\"You must double 1 %d times to reach 1 billion.\"%(counter))"
   ]
  },
  {
   "cell_type": "code",
   "execution_count": null,
   "metadata": {},
   "outputs": [],
   "source": []
  }
 ],
 "metadata": {
  "kernelspec": {
   "display_name": "Python 3",
   "language": "python",
   "name": "python3"
  },
  "language_info": {
   "codemirror_mode": {
    "name": "ipython",
    "version": 3
   },
   "file_extension": ".py",
   "mimetype": "text/x-python",
   "name": "python",
   "nbconvert_exporter": "python",
   "pygments_lexer": "ipython3",
   "version": "3.7.3"
  }
 },
 "nbformat": 4,
 "nbformat_minor": 2
}
